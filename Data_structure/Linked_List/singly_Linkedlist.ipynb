{
 "cells": [
  {
   "cell_type": "markdown",
   "metadata": {},
   "source": [
    "# Linked list"
   ]
  },
  {
   "cell_type": "code",
   "execution_count": 6,
   "metadata": {},
   "outputs": [],
   "source": [
    "class Node:\n",
    "    def __init__(self,data):\n",
    "        self.data=data\n",
    "        self.next=None"
   ]
  },
  {
   "cell_type": "code",
   "execution_count": 7,
   "metadata": {},
   "outputs": [],
   "source": [
    "class LL:\n",
    "    def __init__(self):\n",
    "        self.head=None\n",
    " \n",
    "    def append(self,data):\n",
    "        new_node=Node(data)\n",
    "        if self.head is None:\n",
    "            self.head=new_node\n",
    "            return \n",
    "        last_node=self.head\n",
    "        while last_node.next:\n",
    "            last_node=last_node.next\n",
    "        last_node.next=new_node\n",
    "        \n",
    "    def print_LL(self):\n",
    "        curr_node=self.head  \n",
    "        while curr_node:\n",
    "            print(curr_node.data)\n",
    "            curr_node=curr_node.next\n",
    "            \n",
    "    def prepend(self,data):\n",
    "        new_node=Node(data)\n",
    "        new_node.next=self.head\n",
    "        self.head=new_node\n",
    "        \n",
    "    def insert(self,prev,data):\n",
    "        if not prev:\n",
    "            print(\"There is no previous node\")\n",
    "            return \n",
    "        new_node=Node(data)\n",
    "        new_node.next=prev.next\n",
    "        prev.next=new_node\n",
    "        \n",
    "    def delete(self,key):\n",
    "        curr_node=self.head\n",
    "        if curr_node and curr_node.data==key:\n",
    "            self.head=curr_node.next\n",
    "            curr_node=None\n",
    "            return\n",
    "        prev_node=None\n",
    "        while curr_node and curr_node.data!=key:\n",
    "            prev_node=curr_node\n",
    "            curr_node=curr_node.next\n",
    "        if curr_node is None:\n",
    "            return \n",
    "        prev_node.next=curr_node.next\n",
    "        curr_node=None\n",
    "\n",
    "    def recursive_len(self):\n",
    "        def recursion(node):\n",
    "            if not node:\n",
    "                return 0\n",
    "            return 1+recursion(node.next)\n",
    "        print(recursion(self.head))"
   ]
  },
  {
   "cell_type": "code",
   "execution_count": 8,
   "metadata": {},
   "outputs": [],
   "source": [
    "ll=LL()"
   ]
  },
  {
   "cell_type": "code",
   "execution_count": 9,
   "metadata": {
    "scrolled": true
   },
   "outputs": [],
   "source": [
    "ll.append(\"A\")\n",
    "ll.append(\"B\")\n",
    "ll.append(\"C\")\n",
    "ll.append(\"D\")"
   ]
  },
  {
   "cell_type": "code",
   "execution_count": 10,
   "metadata": {},
   "outputs": [],
   "source": [
    "# ll.prepend(\"D\")"
   ]
  },
  {
   "cell_type": "code",
   "execution_count": 11,
   "metadata": {},
   "outputs": [],
   "source": [
    "ll.insert(ll.head.next,\"F\")"
   ]
  },
  {
   "cell_type": "code",
   "execution_count": 12,
   "metadata": {
    "scrolled": true
   },
   "outputs": [],
   "source": [
    "ll.delete(\"D\")"
   ]
  },
  {
   "cell_type": "code",
   "execution_count": 13,
   "metadata": {},
   "outputs": [
    {
     "name": "stdout",
     "output_type": "stream",
     "text": [
      "A\n",
      "B\n",
      "F\n",
      "C\n"
     ]
    }
   ],
   "source": [
    "ll.print_LL()"
   ]
  },
  {
   "cell_type": "code",
   "execution_count": 14,
   "metadata": {},
   "outputs": [
    {
     "name": "stdout",
     "output_type": "stream",
     "text": [
      "4\n"
     ]
    }
   ],
   "source": [
    "ll.recursive_len()"
   ]
  }
 ],
 "metadata": {
  "kernelspec": {
   "display_name": "Python 3",
   "language": "python",
   "name": "python3"
  },
  "language_info": {
   "codemirror_mode": {
    "name": "ipython",
    "version": 3
   },
   "file_extension": ".py",
   "mimetype": "text/x-python",
   "name": "python",
   "nbconvert_exporter": "python",
   "pygments_lexer": "ipython3",
   "version": "3.8.5"
  }
 },
 "nbformat": 4,
 "nbformat_minor": 4
}
